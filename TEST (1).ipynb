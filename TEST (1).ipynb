{
  "nbformat": 4,
  "nbformat_minor": 0,
  "metadata": {
    "colab": {
      "provenance": [],
      "toc_visible": true
    },
    "kernelspec": {
      "name": "python3",
      "display_name": "Python 3"
    },
    "language_info": {
      "name": "python"
    }
  },
  "cells": [
    {
      "cell_type": "code",
      "execution_count": null,
      "metadata": {
        "colab": {
          "base_uri": "https://localhost:8080/"
        },
        "id": "RyrD6YMuRSaq",
        "outputId": "0e239b3e-3b98-495d-ca4b-243c93c6fe6c"
      },
      "outputs": [
        {
          "output_type": "stream",
          "name": "stdout",
          "text": [
            "Null hypothesis is rejected. \n",
            "Alternate hypothesis is accepted!\n"
          ]
        }
      ],
      "source": [
        "import math\n",
        "import numpy as np\n",
        "\n",
        "from scipy.stats import norm\n",
        "\n",
        "sample_marks = [650,730,510,670,480,800,690,530,590,620,710,670,640,780,650,490,800,600,510,700]\n",
        "\n",
        "\n",
        "sample_mean = np.mean(sample_marks)\n",
        "sample_size = np.count_nonzero(sample_marks)\n",
        "population_mean = 600\n",
        "population_std = 100\n",
        "alpha = 0.05\n",
        "z_score = (sample_mean-population_mean)/(population_std/math.sqrt(sample_size))\n",
        "critical_value = 1.645\n",
        "if(z_score<critical_value):\n",
        "    print('Null hypothesis is accepted!')\n",
        "else:\n",
        "    print('Null hypothesis is rejected. \\nAlternate hypothesis is accepted!')"
      ]
    },
    {
      "cell_type": "code",
      "source": [
        "import math\n",
        "import numpy as np\n",
        "from statsmodels.stats.weightstats import ztest\n",
        "\n",
        "sample_marks1 = [650,730,510,670,480,800,690,530,590,620,710,670,640,780,650,490,800,600,510,700]\n",
        "sample_marks2 = [630,720,462,631,440,783,673,519,543,579,677,649,632,768,615,463,781,563,488,650]\n",
        "\n",
        "sample_mean1 = np.mean(sample_marks1)\n",
        "sample_mean2 = np.mean(sample_marks2)\n",
        "sample_size1 = np.count_nonzero(sample_marks1)\n",
        "sample_size2 = np.count_nonzero(sample_marks2)\n",
        "population_mean_diff = 10\n",
        "population_std1 = 100\n",
        "population_std2 = 90\n",
        "alpha = 0.05"
      ],
      "metadata": {
        "id": "iIj83Z1oRjnG"
      },
      "execution_count": null,
      "outputs": []
    },
    {
      "cell_type": "code",
      "source": [
        "zscore = ((sample_mean1-sample_mean2)-(population_mean_diff))/(math.sqrt((population_std1**2/sample_size1)+(population_std2**2/sample_size2)))\n",
        "critical_value = 1.645\n",
        "\n",
        "if(zscore<critical_value):\n",
        "    print('Null hypothesis is accepted!')\n",
        "else:\n",
        "    print('Null hypothesis is rejected. \\nAlternate hypothesis is accepted!')"
      ],
      "metadata": {
        "colab": {
          "base_uri": "https://localhost:8080/"
        },
        "id": "6JL1dTCNUhgH",
        "outputId": "e11fa6e4-e39f-4a40-c56b-dbabe54c02c6"
      },
      "execution_count": null,
      "outputs": [
        {
          "output_type": "stream",
          "name": "stdout",
          "text": [
            "Null hypothesis is accepted!\n"
          ]
        }
      ]
    },
    {
      "cell_type": "code",
      "source": [
        "import math\n",
        "\n",
        "observed = [[30, 10], [20, 30]]\n",
        "rows = len(observed)\n",
        "cols = len(observed[0])\n",
        "\n",
        "\n",
        "row_totals = [sum(row) for row in observed]\n",
        "col_totals = [sum(observed[r][c] for r in range(rows)) for c in range(cols)]\n",
        "grand_total = sum(row_totals)\n",
        "\n",
        "\n",
        "expected = [[(row_totals[r] * col_totals[c]) / grand_total for c in range(cols)] for r in range(rows)]\n",
        "\n",
        "\n",
        "chi_square = sum(\n",
        "    (observed[r][c] - expected[r][c]) ** 2 / expected[r][c]\n",
        "    for r in range(rows)\n",
        "    for c in range(cols)\n",
        ")\n",
        "\n",
        "\n",
        "df = (rows - 1) * (cols - 1)\n",
        "\n",
        "\n",
        "print(\"Observed Frequencies:\")\n",
        "for row in observed:\n",
        "    print(row)\n",
        "print(\"\\nExpected Frequencies:\")\n",
        "for row in expected:\n",
        "    print(row)\n",
        "print(f\"\\nChi-Square Statistic: {chi_square:.2f}\")\n",
        "print(f\"Degrees of Freedom: {df}\")\n",
        "\n"
      ],
      "metadata": {
        "colab": {
          "base_uri": "https://localhost:8080/"
        },
        "id": "6Z-E1Hq2dR_-",
        "outputId": "ba71d38c-d174-40b2-875c-d0d56800a706"
      },
      "execution_count": null,
      "outputs": [
        {
          "output_type": "stream",
          "name": "stdout",
          "text": [
            "Observed Frequencies:\n",
            "[30, 10]\n",
            "[20, 30]\n",
            "\n",
            "Expected Frequencies:\n",
            "[22.22222222222222, 17.77777777777778]\n",
            "[27.77777777777778, 22.22222222222222]\n",
            "\n",
            "Chi-Square Statistic: 11.03\n",
            "Degrees of Freedom: 1\n"
          ]
        }
      ]
    },
    {
      "cell_type": "code",
      "source": [
        "import numpy as np\n",
        "from scipy import stats\n",
        "def anova(*groups):\n",
        "    # Step 1: Calculate the overall mean (grand mean)\n",
        "    all_data = np.concatenate(groups)\n",
        "    grand_mean = np.mean(all_data)\n",
        "\n",
        "    # Step 2: Calculate the between-group sum of squares (SSB)\n",
        "    SSB = sum(len(group) * (np.mean(group) - grand_mean) ** 2 for group in groups)\n",
        "\n",
        "    # Step 3: Calculate the within-group sum of squares (SSW)\n",
        "    SSW = sum(np.sum((group - np.mean(group)) ** 2) for group in groups)\n",
        "\n",
        "    # Step 4: Degrees of freedom\n",
        "    df_between = len(groups) - 1\n",
        "    df_within = len(all_data) - len(groups)\n",
        "\n",
        "    # Step 5: Mean squares\n",
        "    MSB = SSB / df_between\n",
        "    MSW = SSW / df_within\n",
        "\n",
        "    # Step 6: F-statistic\n",
        "    F_stat = MSB / MSW\n",
        "\n",
        "    # Step 7: Calculate the p-value\n",
        "    p_value = 1 - stats.f.cdf(F_stat, df_between, df_within)\n",
        "\n",
        "    return F_stat, p_value\n",
        "\n",
        "# Example usage:\n",
        "group1 = [20, 21, 22, 23, 24]\n",
        "group2 = [30, 31, 32, 33, 34]\n",
        "group3 = [40, 41, 42, 43, 44]\n",
        "\n",
        "F_stat, p_val = anova(group1, group2, group3)\n",
        "print(f\"F-Statistic: {F_stat}\")\n",
        "print(f\"P-Value: {p_val}\")"
      ],
      "metadata": {
        "colab": {
          "base_uri": "https://localhost:8080/"
        },
        "id": "S7eEM7TEDb-d",
        "outputId": "fede35d4-8d6a-4868-abf7-e23f563cb4a6"
      },
      "execution_count": 2,
      "outputs": [
        {
          "output_type": "stream",
          "name": "stdout",
          "text": [
            "F-Statistic: 200.0\n",
            "P-Value: 6.105260741406937e-10\n"
          ]
        }
      ]
    },
    {
      "cell_type": "code",
      "source": [
        "alpha =4\n",
        "if(p_val>alpha):\n",
        "    print('Null hypothesis is accepted!')\n",
        "else:\n",
        "    print('Null hypothesis is rejected. \\nAlternate hypothesis is accepted!')"
      ],
      "metadata": {
        "colab": {
          "base_uri": "https://localhost:8080/"
        },
        "id": "dD515Pm4ae_f",
        "outputId": "c54f3031-4479-4e95-df52-7c974f72ce76"
      },
      "execution_count": 5,
      "outputs": [
        {
          "output_type": "stream",
          "name": "stdout",
          "text": [
            "Null hypothesis is rejected. \n",
            "Alternate hypothesis is accepted!\n"
          ]
        }
      ]
    },
    {
      "cell_type": "code",
      "source": [
        "import numpy as np\n",
        "from scipy import stats\n",
        "\n",
        "def t_test(sample_data, population_mean, alpha=0.05):\n",
        "\n",
        "    sample_mean = np.mean(sample_data)\n",
        "    sample_std = np.std(sample_data, ddof=1)\n",
        "\n",
        "    n = len(sample_data)\n",
        "\n",
        "\n",
        "    t_stat = (sample_mean - population_mean) / (sample_std / np.sqrt(n))\n",
        "\n",
        "\n",
        "    p_value = 2 * (1 - stats.t.cdf(np.abs(t_stat), df=n-1))\n",
        "\n",
        "\n",
        "    if p_value < alpha:\n",
        "        result = \"Reject the null hypothesis\"\n",
        "    else:\n",
        "        result = \"Fail to reject the null hypothesis\"\n",
        "\n",
        "    return t_stat, p_value, result\n",
        "\n",
        "\n",
        "sample_data = [22, 25, 29, 30, 24, 20, 28]\n",
        "population_mean = 26\n",
        "\n",
        "t_stat, p_val, decision = t_test(sample_data, population_mean)\n",
        "print(f\"T-Statistic: {t_stat}\")\n",
        "print(f\"P-Value: {p_val}\")\n",
        "print(f\"Decision: {decision}\")"
      ],
      "metadata": {
        "colab": {
          "base_uri": "https://localhost:8080/"
        },
        "id": "1TcVNEUTGBs2",
        "outputId": "9e5afc45-8c69-407b-931b-fb8122135e15"
      },
      "execution_count": 6,
      "outputs": [
        {
          "output_type": "stream",
          "name": "stdout",
          "text": [
            "T-Statistic: -0.40474995441293204\n",
            "P-Value: 0.6996958415192993\n",
            "Decision: Fail to reject the null hypothesis\n"
          ]
        }
      ]
    }
  ]
}