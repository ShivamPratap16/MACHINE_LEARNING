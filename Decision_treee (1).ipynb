{
  "nbformat": 4,
  "nbformat_minor": 0,
  "metadata": {
    "colab": {
      "provenance": []
    },
    "kernelspec": {
      "name": "python3",
      "display_name": "Python 3"
    },
    "language_info": {
      "name": "python"
    }
  },
  "cells": [
    {
      "cell_type": "code",
      "execution_count": null,
      "metadata": {
        "id": "YW5jdtSwgfG3"
      },
      "outputs": [],
      "source": []
    },
    {
      "cell_type": "code",
      "source": [
        "import numpy as np\n",
        "from sklearn.model_selection import train_test_split\n",
        "from sklearn.metrics import accuracy_score\n",
        "\n",
        "class DecisionTree:\n",
        "    def __init__(self, max_depth=None):\n",
        "        self.max_depth = max_depth\n",
        "        self.tree = None\n",
        "\n",
        "    def fit(self, X, y):\n",
        "        self.tree = self._build_tree(X, y)\n",
        "\n",
        "    def predict(self, X):\n",
        "        return np.array([self._traverse_tree(x, self.tree) for x in X])\n",
        "\n",
        "    def _build_tree(self, X, y, depth=0):\n",
        "        num_samples, num_features = X.shape\n",
        "        num_classes = len(np.unique(y))\n",
        "\n",
        "        if num_classes == 1 or num_samples <= 1 or (self.max_depth and depth >= self.max_depth):\n",
        "            return {\"type\": \"leaf\", \"class\": np.argmax(np.bincount(y))}\n",
        "\n",
        "        best_feature, best_threshold = self._find_best_split(X, y)\n",
        "\n",
        "        if best_feature is None:\n",
        "            return {\"type\": \"leaf\", \"class\": np.argmax(np.bincount(y))}\n",
        "\n",
        "        left_idx = X[:, best_feature] <= best_threshold\n",
        "        right_idx = X[:, best_feature] > best_threshold\n",
        "        left_subtree = self._build_tree(X[left_idx], y[left_idx], depth + 1)\n",
        "        right_subtree = self._build_tree(X[right_idx], y[right_idx], depth + 1)\n",
        "\n",
        "        return {\"type\": \"node\", \"feature\": best_feature, \"threshold\": best_threshold,\n",
        "                \"left\": left_subtree, \"right\": right_subtree}\n",
        "\n",
        "    def _find_best_split(self, X, y):\n",
        "        best_feature, best_threshold = None, None\n",
        "        best_impurity = float(\"inf\")\n",
        "\n",
        "        for feature in range(X.shape[1]):\n",
        "            thresholds = np.unique(X[:, feature])\n",
        "            for threshold in thresholds:\n",
        "                left_idx = X[:, feature] <= threshold\n",
        "                right_idx = X[:, feature] > threshold\n",
        "                if len(left_idx) == 0 or len(right_idx) == 0:\n",
        "                    continue\n",
        "\n",
        "                impurity = self._weighted_impurity(y[left_idx], y[right_idx])\n",
        "                if impurity < best_impurity:\n",
        "                    best_impurity = impurity\n",
        "                    best_feature = feature\n",
        "                    best_threshold = threshold\n",
        "\n",
        "        return best_feature, best_threshold\n",
        "\n",
        "    def _weighted_impurity(self, left_y, right_y):\n",
        "        n = len(left_y) + len(right_y)\n",
        "        left_impurity = self._gini(left_y)\n",
        "        right_impurity = self._gini(right_y)\n",
        "        return (len(left_y) / n) * left_impurity + (len(right_y) / n) * right_impurity\n",
        "\n",
        "    def _gini(self, y):\n",
        "        classes, counts = np.unique(y, return_counts=True)\n",
        "        prob = counts / len(y)\n",
        "        return 1 - np.sum(prob ** 2)\n",
        "\n",
        "    def _traverse_tree(self, x, node):\n",
        "        if node[\"type\"] == \"leaf\":\n",
        "            return node[\"class\"]\n",
        "        if x[node[\"feature\"]] <= node[\"threshold\"]:\n",
        "            return self._traverse_tree(x, node[\"left\"])\n",
        "        return self._traverse_tree(x, node[\"right\"])\n",
        "\n",
        "\n",
        "if __name__ == \"__main__\":\n",
        "\n",
        "    X = np.array([\n",
        "        [2, 3], [1, 2], [3, 6], [5, 7], [6, 8],\n",
        "        [7, 10], [8, 12], [5, 9], [4, 5], [7, 6],\n",
        "        [3, 4], [2, 2], [6, 7], [4, 3], [8, 11],\n",
        "        [9, 13], [10, 15], [6, 6], [5, 5], [7, 8]\n",
        "    ])\n",
        "    y = np.array([0, 0, 1, 1, 1, 1, 1, 0, 0, 1,\n",
        "                  0, 0, 1, 0, 1, 1, 1, 1, 0, 0])\n",
        "\n",
        "\n",
        "    X_train, X_test, y_train, y_test = train_test_split(X, y, test_size=0.3, random_state=42)\n",
        "\n",
        "\n",
        "    tree = DecisionTree(max_depth=3)\n",
        "    tree.fit(X_train, y_train)\n",
        "\n",
        "\n",
        "    y_pred = tree.predict(X_test)\n",
        "\n",
        "\n",
        "    accuracy = accuracy_score(y_test, y_pred)\n",
        "\n",
        "    print(\"Predictions:\", y_pred)\n",
        "    print(\"Actual:\", y_test)\n",
        "    print(\"Accuracy:\", accuracy)\n"
      ],
      "metadata": {
        "colab": {
          "base_uri": "https://localhost:8080/"
        },
        "id": "C_pJsI2bnKKa",
        "outputId": "fbfc2aae-974c-40ab-f66e-25665ad425d1"
      },
      "execution_count": null,
      "outputs": [
        {
          "output_type": "stream",
          "name": "stdout",
          "text": [
            "Predictions: [0 1 1 0 0 0]\n",
            "Actual: [0 1 1 0 0 1]\n",
            "Accuracy: 0.8333333333333334\n"
          ]
        }
      ]
    }
  ]
}