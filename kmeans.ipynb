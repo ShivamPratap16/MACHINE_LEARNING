{
  "nbformat": 4,
  "nbformat_minor": 0,
  "metadata": {
    "colab": {
      "provenance": []
    },
    "kernelspec": {
      "name": "python3",
      "display_name": "Python 3"
    },
    "language_info": {
      "name": "python"
    }
  },
  "cells": [
    {
      "cell_type": "code",
      "execution_count": null,
      "metadata": {
        "id": "738sMFMstJJK"
      },
      "outputs": [],
      "source": [
        "import random\n",
        "import numpy as np\n",
        "\n",
        "class KMeans:\n",
        "    def __init__(self, n_clusters=2, max_iter=100):\n",
        "        self.n_clusters = n_clusters\n",
        "        self.max_iter = max_iter\n",
        "        self.centroids = None\n",
        "\n",
        "    def fit_predict(self, X):\n",
        "\n",
        "        random_index = random.sample(range(0, X.shape[0]), self.n_clusters)\n",
        "        self.centroids = X[random_index]\n",
        "\n",
        "        for i in range(self.max_iter):\n",
        "\n",
        "            cluster_group = self.assign_clusters(X)\n",
        "\n",
        "\n",
        "            old_centroids = self.centroids.copy()\n",
        "\n",
        "\n",
        "            self.centroids = self.move_centroids(X, cluster_group)\n",
        "\n",
        "\n",
        "            if np.allclose(old_centroids, self.centroids):\n",
        "                break\n",
        "\n",
        "        return cluster_group\n",
        "\n",
        "    def assign_clusters(self, X):\n",
        "\n",
        "        distances = np.linalg.norm(X[:, np.newaxis] - self.centroids, axis=2)\n",
        "\n",
        "        return np.argmin(distances, axis=1)\n",
        "\n",
        "    def move_centroids(self, X, cluster_group):\n",
        "\n",
        "        new_centroids = []\n",
        "        for k in range(self.n_clusters):\n",
        "            new_centroids.append(X[cluster_group == k].mean(axis=0))\n",
        "        return np.array(new_centroids)\n"
      ]
    },
    {
      "cell_type": "code",
      "source": [
        "import numpy as np\n",
        "from sklearn import datasets\n",
        "from sklearn.preprocessing import StandardScaler\n",
        "\n",
        "\n",
        "# iris = datasets.load_iris()\n",
        "# X = iris.data\n",
        "\n",
        "\n",
        "# scaler = StandardScaler()\n",
        "# X = scaler.fit_transform(X)\n",
        "X = np.array([\n",
        "    [2, 3], [1, 1], [2, 2], [4, 4], [6, 6], [7, 8], [1, 3], [3, 3],\n",
        "    [5, 5], [8, 8], [3, 7], [9, 3], [6, 2], [4, 5], [5, 7], [2, 6],\n",
        "    [3, 6], [7, 9], [8, 7], [5, 6], [6, 4], [7, 5], [2, 5], [4, 6],\n",
        "    [1, 2], [8, 3], [3, 8], [2, 4], [6, 5], [9, 6], [4, 2], [5, 4]\n",
        "])\n",
        "\n",
        "\n",
        "kmeans = KMeans(n_clusters=3, max_iter=100)\n",
        "clusters = kmeans.fit_predict(X)\n",
        "\n",
        "print(\"Cluster assignments:\", clusters)\n",
        "print(\"Centroids:\", kmeans.centroids)\n"
      ],
      "metadata": {
        "colab": {
          "base_uri": "https://localhost:8080/"
        },
        "id": "vX0Rwvh_tNEc",
        "outputId": "1bc41861-1d30-495a-cc09-f47f5093769c"
      },
      "execution_count": null,
      "outputs": [
        {
          "output_type": "stream",
          "name": "stdout",
          "text": [
            "Cluster assignments: [2 2 2 1 0 0 2 2 0 0 1 0 2 1 0 1 1 0 0 0 0 0 1 1 2 0 1 2 0 0 2 0]\n",
            "Centroids: [[6.73333333 5.73333333]\n",
            " [3.125      5.875     ]\n",
            " [2.44444444 2.44444444]]\n"
          ]
        }
      ]
    },
    {
      "cell_type": "code",
      "source": [
        "# from sklearn.metrics import accuracy_score\n",
        "# from scipy.stats import mode\n",
        "\n",
        "\n",
        "# labels = np.zeros_like(clusters)\n",
        "# for i in range(3):\n",
        "#     mask = (clusters == i)\n",
        "#     labels[mask] = mode(iris.target[mask])[0]\n",
        "\n",
        "# accuracy = accuracy_score(iris.target, labels)\n",
        "# print(\"Clustering accuracy:\", accuracy)\n"
      ],
      "metadata": {
        "id": "tPW70J1zu-ni"
      },
      "execution_count": null,
      "outputs": []
    },
    {
      "cell_type": "code",
      "source": [
        "true_labels = np.array([\n",
        "    2 ,2, 2, 1 ,0, 0, 2, 2, 0 ,0, 1, 0, 2, 1, 0, 0, 1, 0 ,0, 0, 0, 0, 1 ,1, 2, 0, 1, 2, 0, 0 ,2 ,0\n",
        "])"
      ],
      "metadata": {
        "id": "Ev3t9WLg9fog"
      },
      "execution_count": null,
      "outputs": []
    },
    {
      "cell_type": "code",
      "source": [
        "def calculate_accuracy(true_labels, predicted_labels):\n",
        "    labels = np.zeros_like(predicted_labels)\n",
        "    for i in range(np.max(predicted_labels) + 1):\n",
        "        mask = (predicted_labels == i)\n",
        "        # Find the most common true label for each cluster\n",
        "        labels[mask] = mode(true_labels[mask])[0]\n",
        "    return np.mean(labels == true_labels)\n",
        "\n",
        "accuracy = calculate_accuracy(true_labels, clusters)\n",
        "print(\"Accuracy:\", accuracy)"
      ],
      "metadata": {
        "colab": {
          "base_uri": "https://localhost:8080/"
        },
        "id": "t3sqaqwZ8qNv",
        "outputId": "aa1c3349-a2bd-4b7f-ba3a-ff6cc3496f54"
      },
      "execution_count": null,
      "outputs": [
        {
          "output_type": "stream",
          "name": "stdout",
          "text": [
            "Accuracy: 0.96875\n"
          ]
        }
      ]
    }
  ]
}