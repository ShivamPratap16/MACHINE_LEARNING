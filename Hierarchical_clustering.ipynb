{
  "nbformat": 4,
  "nbformat_minor": 0,
  "metadata": {
    "colab": {
      "provenance": []
    },
    "kernelspec": {
      "name": "python3",
      "display_name": "Python 3"
    },
    "language_info": {
      "name": "python"
    }
  },
  "cells": [
    {
      "cell_type": "code",
      "execution_count": 4,
      "metadata": {
        "colab": {
          "base_uri": "https://localhost:8080/"
        },
        "id": "GPI-47ShKKQu",
        "outputId": "e5060514-a658-4123-edc6-dc29b4d2420e"
      },
      "outputs": [
        {
          "output_type": "stream",
          "name": "stdout",
          "text": [
            "Cluster assignments: [0 0 0 0 0 1 0 0 0 1 0 2 0 0 0 0 0 1 1 0 0 0 0 0 0 2 0 0 0 1 0 0]\n"
          ]
        }
      ],
      "source": [
        "import numpy as np\n",
        "\n",
        "class HierarchicalClustering:\n",
        "    def __init__(self, n_clusters=2):\n",
        "        self.n_clusters = n_clusters\n",
        "        self.labels_ = None\n",
        "\n",
        "    def fit_predict(self, X):\n",
        "        # Initialize clusters as each data point being its own cluster\n",
        "        clusters = [[i] for i in range(X.shape[0])]\n",
        "\n",
        "        # Compute the initial distance matrix\n",
        "        distances = self._compute_distance_matrix(X)\n",
        "\n",
        "        while len(clusters) > self.n_clusters:\n",
        "            # Find the two closest clusters\n",
        "            i, j = self._find_closest_clusters(distances)\n",
        "\n",
        "            # Merge the two closest clusters\n",
        "            clusters[i].extend(clusters[j])\n",
        "            clusters.pop(j)\n",
        "\n",
        "            # Update the distance matrix\n",
        "            distances = self._update_distance_matrix(distances, clusters, X)\n",
        "\n",
        "        # Assign labels based on the final clusters\n",
        "        self.labels_ = np.zeros(X.shape[0], dtype=int)\n",
        "        for cluster_idx, cluster in enumerate(clusters):\n",
        "            for sample_idx in cluster:\n",
        "                self.labels_[sample_idx] = cluster_idx\n",
        "\n",
        "        return self.labels_\n",
        "\n",
        "    def _compute_distance_matrix(self, X):\n",
        "        \"\"\"Computes the initial distance matrix using Euclidean distance.\"\"\"\n",
        "        n_samples = X.shape[0]\n",
        "        distances = np.full((n_samples, n_samples), np.inf)  # Initialize with infinity\n",
        "\n",
        "        for i in range(n_samples):\n",
        "            for j in range(i + 1, n_samples):\n",
        "                distances[i, j] = np.linalg.norm(X[i] - X[j])\n",
        "                distances[j, i] = distances[i, j]  # Symmetric distance\n",
        "\n",
        "        return distances\n",
        "\n",
        "    def _find_closest_clusters(self, distances):\n",
        "        \"\"\"Finds the two closest clusters based on the distance matrix.\"\"\"\n",
        "        min_dist = np.inf\n",
        "        closest_pair = (0, 0)\n",
        "\n",
        "        for i in range(len(distances)):\n",
        "            for j in range(i + 1, len(distances)):\n",
        "                if distances[i, j] < min_dist:\n",
        "                    min_dist = distances[i, j]\n",
        "                    closest_pair = (i, j)\n",
        "\n",
        "        return closest_pair\n",
        "\n",
        "    def _update_distance_matrix(self, distances, clusters, X):\n",
        "        \"\"\"Updates the distance matrix after merging two clusters.\"\"\"\n",
        "        n_clusters = len(clusters)\n",
        "        new_distances = np.full((n_clusters, n_clusters), np.inf)\n",
        "\n",
        "        for i in range(n_clusters):\n",
        "            for j in range(i + 1, n_clusters):\n",
        "                # Compute distance between cluster i and cluster j\n",
        "                dist = self._calculate_cluster_distance(clusters[i], clusters[j], X)\n",
        "                new_distances[i, j] = dist\n",
        "                new_distances[j, i] = dist  # Symmetric distance\n",
        "\n",
        "        return new_distances\n",
        "\n",
        "    def _calculate_cluster_distance(self, cluster1, cluster2, X):\n",
        "        \"\"\"Calculates the distance between two clusters (using single linkage).\"\"\"\n",
        "        min_distance = np.inf\n",
        "\n",
        "        for idx1 in cluster1:\n",
        "            for idx2 in cluster2:\n",
        "                distance = np.linalg.norm(X[idx1] - X[idx2])\n",
        "                if distance < min_distance:\n",
        "                    min_distance = distance\n",
        "\n",
        "        return min_distance\n",
        "\n",
        "# Example usage\n",
        "X = np.array([\n",
        "    [2, 3], [1, 1], [2, 2], [4, 4], [6, 6], [7, 8], [1, 3], [3, 3],\n",
        "    [5, 5], [8, 8], [3, 7], [9, 3], [6, 2], [4, 5], [5, 7], [2, 6],\n",
        "    [3, 6], [7, 9], [8, 7], [5, 6], [6, 4], [7, 5], [2, 5], [4, 6],\n",
        "    [1, 2], [8, 3], [3, 8], [2, 4], [6, 5], [9, 6], [4, 2], [5, 4]\n",
        "])\n",
        "\n",
        "# Initialize the model\n",
        "hierarchical_clustering = HierarchicalClustering(n_clusters=3)\n",
        "clusters = hierarchical_clustering.fit_predict(X)\n",
        "\n",
        "print(\"Cluster assignments:\", clusters)\n"
      ]
    }
  ]
}