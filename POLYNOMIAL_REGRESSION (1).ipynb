{
  "nbformat": 4,
  "nbformat_minor": 0,
  "metadata": {
    "colab": {
      "provenance": []
    },
    "kernelspec": {
      "name": "python3",
      "display_name": "Python 3"
    },
    "language_info": {
      "name": "python"
    }
  },
  "cells": [
    {
      "cell_type": "code",
      "execution_count": null,
      "metadata": {
        "colab": {
          "base_uri": "https://localhost:8080/"
        },
        "id": "egXF-vG7T90o",
        "outputId": "3e01349b-dde4-4b9b-ee00-04f532c6d610"
      },
      "outputs": [
        {
          "output_type": "stream",
          "name": "stdout",
          "text": [
            "Intercept: 1.2067\n",
            "Linear Coefficient: -0.4009\n",
            "Quadratic Coefficient: 1.0106\n",
            "Mean Squared Error (MSE): 6.9404\n",
            "R² Score (Accuracy): 0.9931\n"
          ]
        }
      ],
      "source": [
        "import numpy as np\n",
        "\n",
        "x = np.array([1, 2, 3, 4, 5, 6, 7, 8, 9, 10])\n",
        "y = np.array([1.5, 3.8, 9.2, 16.5, 25.3, 36.8, 49.9, 55.2, 80.8, 100.1])\n",
        "\n",
        "X = np.c_[np.ones(len(x)), x, x**2]\n",
        "\n",
        "X_T_X = X.T.dot(X)\n",
        "X_T_y = X.T.dot(y)\n",
        "coefficients = np.linalg.inv(X_T_X).dot(X_T_y)\n",
        "\n",
        "intercept = coefficients[0]\n",
        "linear_coeff = coefficients[1]\n",
        "quadratic_coeff = coefficients[2]\n",
        "\n",
        "predicted_values = X.dot(coefficients)\n",
        "\n",
        "mse = np.mean((y - predicted_values) ** 2)\n",
        "ss_total = np.sum((y - np.mean(y)) ** 2)\n",
        "ss_residual = np.sum((y - predicted_values) ** 2)\n",
        "r2_score = 1 - (ss_residual / ss_total)\n",
        "\n",
        "print(f\"Intercept: {intercept:.4f}\")\n",
        "print(f\"Linear Coefficient: {linear_coeff:.4f}\")\n",
        "print(f\"Quadratic Coefficient: {quadratic_coeff:.4f}\")\n",
        "print(f\"Mean Squared Error (MSE): {mse:.4f}\")\n",
        "print(f\"R² Score (Accuracy): {r2_score:.4f}\")\n"
      ]
    }
  ]
}